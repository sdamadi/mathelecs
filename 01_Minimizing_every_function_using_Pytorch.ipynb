{
  "nbformat": 4,
  "nbformat_minor": 0,
  "metadata": {
    "colab": {
      "name": "01-Minimizing every function using Pytorch.ipynb",
      "provenance": [],
      "collapsed_sections": [],
      "authorship_tag": "ABX9TyNIcyGTEp0UPcZkKGX1E7hU",
      "include_colab_link": true
    },
    "kernelspec": {
      "name": "python3",
      "display_name": "Python 3"
    },
    "language_info": {
      "name": "python"
    }
  },
  "cells": [
    {
      "cell_type": "markdown",
      "metadata": {
        "id": "view-in-github",
        "colab_type": "text"
      },
      "source": [
        "<a href=\"https://colab.research.google.com/github/sdamadi/mathelecs/blob/main/01_Minimizing_every_function_using_Pytorch.ipynb\" target=\"_parent\"><img src=\"https://colab.research.google.com/assets/colab-badge.svg\" alt=\"Open In Colab\"/></a>"
      ]
    },
    {
      "cell_type": "markdown",
      "source": [
        "# Minimizing every function using Pytorch\n",
        "\n",
        "You can find the video supporting this notebook [here]()."
      ],
      "metadata": {
        "id": "vmA6Ex0ELx_K"
      }
    },
    {
      "cell_type": "markdown",
      "source": [
        "**Quick version:**\n",
        "\n",
        "If you are someone who only wants the code, the followig will do it for you."
      ],
      "metadata": {
        "id": "86KN084cLzhX"
      }
    },
    {
      "cell_type": "code",
      "source": [
        "import torch"
      ],
      "metadata": {
        "id": "WX0N4RBeLr0l"
      },
      "execution_count": 1,
      "outputs": []
    },
    {
      "cell_type": "markdown",
      "source": [
        "# Minimization of $\n",
        "f(x)=(x-1)^2\n",
        "$ with $x_0=0$."
      ],
      "metadata": {
        "id": "IM5WEQ0tQjl_"
      }
    },
    {
      "cell_type": "code",
      "source": [
        "x_0 = torch.tensor(0., requires_grad = True)\n",
        "x = x_0\n",
        "optimizer = torch.optim.SGD([x], lr=0.1)\n",
        "steps = 30\n",
        "for i in range(steps):\n",
        "  optimizer.zero_grad()\n",
        "  f = (x-1)**2\n",
        "  f.backward()\n",
        "  optimizer.step()\n",
        "  print(f'At step {i+1:2} the function value is {f.item(): 1.4f} and x={x: 0.4f}' )\n"
      ],
      "metadata": {
        "id": "6xdUP9fELtZR",
        "colab": {
          "base_uri": "https://localhost:8080/"
        },
        "outputId": "fce0e341-74ba-422b-a11e-bfff9997a0cd"
      },
      "execution_count": null,
      "outputs": [
        {
          "output_type": "stream",
          "name": "stdout",
          "text": [
            "At step  1 the function value is  1.0000 and x= 0.2000\n",
            "At step  2 the function value is  0.6400 and x= 0.3600\n",
            "At step  3 the function value is  0.4096 and x= 0.4880\n",
            "At step  4 the function value is  0.2621 and x= 0.5904\n",
            "At step  5 the function value is  0.1678 and x= 0.6723\n",
            "At step  6 the function value is  0.1074 and x= 0.7379\n",
            "At step  7 the function value is  0.0687 and x= 0.7903\n",
            "At step  8 the function value is  0.0440 and x= 0.8322\n",
            "At step  9 the function value is  0.0281 and x= 0.8658\n",
            "At step 10 the function value is  0.0180 and x= 0.8926\n",
            "At step 11 the function value is  0.0115 and x= 0.9141\n",
            "At step 12 the function value is  0.0074 and x= 0.9313\n",
            "At step 13 the function value is  0.0047 and x= 0.9450\n",
            "At step 14 the function value is  0.0030 and x= 0.9560\n",
            "At step 15 the function value is  0.0019 and x= 0.9648\n",
            "At step 16 the function value is  0.0012 and x= 0.9719\n",
            "At step 17 the function value is  0.0008 and x= 0.9775\n",
            "At step 18 the function value is  0.0005 and x= 0.9820\n",
            "At step 19 the function value is  0.0003 and x= 0.9856\n",
            "At step 20 the function value is  0.0002 and x= 0.9885\n",
            "At step 21 the function value is  0.0001 and x= 0.9908\n",
            "At step 22 the function value is  0.0001 and x= 0.9926\n",
            "At step 23 the function value is  0.0001 and x= 0.9941\n",
            "At step 24 the function value is  0.0000 and x= 0.9953\n",
            "At step 25 the function value is  0.0000 and x= 0.9962\n",
            "At step 26 the function value is  0.0000 and x= 0.9970\n",
            "At step 27 the function value is  0.0000 and x= 0.9976\n",
            "At step 28 the function value is  0.0000 and x= 0.9981\n",
            "At step 29 the function value is  0.0000 and x= 0.9985\n",
            "At step 30 the function value is  0.0000 and x= 0.9988\n"
          ]
        }
      ]
    },
    {
      "cell_type": "markdown",
      "source": [
        "# Minimization of $\n",
        "f(\\mathbf{x})=\\frac{1}{2}\\|A\\mathbf{x} - \\mathbf{b}\\|^2_2\n",
        "$."
      ],
      "metadata": {
        "id": "6KUeIQh6QW8n"
      }
    },
    {
      "cell_type": "markdown",
      "source": [
        " The matrix of the coefficient is the following:\n",
        "$$\n",
        "A= \n",
        "\\begin{bmatrix}\n",
        "1 & 2 & -1\\\\\n",
        "-2 & 0 & 1 \\\\\n",
        "1 & -1 & 0\n",
        "\\end{bmatrix}\n",
        "$$\n",
        "and $b=[2,1,-1]^{\\top}$."
      ],
      "metadata": {
        "id": "-RrdwlLcTrGK"
      }
    },
    {
      "cell_type": "markdown",
      "source": [
        "The global solution $x^*=[1,2,3]^{\\top}$. Remember, when $A$ is invertible, the global minimizer is $x^*=A^{-1}b$ which is caught by starting from $x_0=[0,0,0]^{\\top}$."
      ],
      "metadata": {
        "id": "xI0QDHknQwe5"
      }
    },
    {
      "cell_type": "code",
      "source": [
        "A = torch.tensor(\n",
        "                  [\n",
        "                    [1, 2, -1],\n",
        "                    [-2, 0, 1],\n",
        "                    [1, -1, 0.]\n",
        "                  ]\n",
        "                )"
      ],
      "metadata": {
        "id": "yzc99tbITiVe"
      },
      "execution_count": null,
      "outputs": []
    },
    {
      "cell_type": "code",
      "source": [
        "b = torch.tensor(\n",
        "                  [\n",
        "                    [ 2.],\n",
        "                    [ 1.],\n",
        "                    [-1.]\n",
        "                  ]\n",
        "                 )"
      ],
      "metadata": {
        "id": "dVB917KWTmUC"
      },
      "execution_count": null,
      "outputs": []
    },
    {
      "cell_type": "code",
      "source": [
        "x_0 = torch.tensor([[0.], [0.], [0.]], requires_grad = True)\n",
        "x = x_0\n",
        "optimizer = torch.optim.SGD([x], lr=0.1)\n",
        "steps = 2000\n",
        "for i in range(steps):\n",
        "  optimizer.zero_grad()\n",
        "  f = 0.5*torch.norm( torch.matmul(A, x) -b )**2\n",
        "  f.backward()\n",
        "  optimizer.step()\n",
        "  if i%100 == 0:\n",
        "    print(f'At step {i+1:4} x={str([round(x[i].item(), 2) for i in range(x.numel())]):18}'\\\n",
        "          f' and the function value is {f.item(): 0.4f}.' )"
      ],
      "metadata": {
        "id": "IuF4KnnbT3sw",
        "colab": {
          "base_uri": "https://localhost:8080/"
        },
        "outputId": "0f2944fe-f6df-49bc-c1b6-839de878a3ff"
      },
      "execution_count": null,
      "outputs": [
        {
          "output_type": "stream",
          "name": "stdout",
          "text": [
            "At step    1 x=[-0.1, 0.5, -0.1]  and the function value is  3.0000.\n",
            "At step  101 x=[-0.08, 1.25, 0.6] and the function value is  0.0996.\n",
            "At step  201 x=[0.17, 1.43, 1.16] and the function value is  0.0585.\n",
            "At step  301 x=[0.37, 1.56, 1.59] and the function value is  0.0344.\n",
            "At step  401 x=[0.51, 1.66, 1.92] and the function value is  0.0202.\n",
            "At step  501 x=[0.63, 1.74, 2.17] and the function value is  0.0119.\n",
            "At step  601 x=[0.71, 1.8, 2.37]  and the function value is  0.0070.\n",
            "At step  701 x=[0.78, 1.85, 2.51] and the function value is  0.0041.\n",
            "At step  801 x=[0.83, 1.88, 2.63] and the function value is  0.0024.\n",
            "At step  901 x=[0.87, 1.91, 2.71] and the function value is  0.0014.\n",
            "At step 1001 x=[0.9, 1.93, 2.78]  and the function value is  0.0008.\n",
            "At step 1101 x=[0.92, 1.95, 2.83] and the function value is  0.0005.\n",
            "At step 1201 x=[0.94, 1.96, 2.87] and the function value is  0.0003.\n",
            "At step 1301 x=[0.96, 1.97, 2.9]  and the function value is  0.0002.\n",
            "At step 1401 x=[0.97, 1.98, 2.92] and the function value is  0.0001.\n",
            "At step 1501 x=[0.97, 1.98, 2.94] and the function value is  0.0001.\n",
            "At step 1601 x=[0.98, 1.99, 2.96] and the function value is  0.0000.\n",
            "At step 1701 x=[0.98, 1.99, 2.97] and the function value is  0.0000.\n",
            "At step 1801 x=[0.99, 1.99, 2.97] and the function value is  0.0000.\n",
            "At step 1901 x=[0.99, 1.99, 2.98] and the function value is  0.0000.\n"
          ]
        }
      ]
    }
  ]
}